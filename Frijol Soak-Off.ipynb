{
 "cells": [
  {
   "cell_type": "markdown",
   "metadata": {},
   "source": [
    "# Introduction\n",
    "The aim of the experiment was to see how soaking temperature affected the length increase in beans (*Phaseolus vulgaris*) when they were soaked in water for 12 hours. The two temperatures used for soaking were room temperature and refrigerator temperature."
   ]
  },
  {
   "cell_type": "markdown",
   "metadata": {},
   "source": [
    "# Materials Methods \n",
    "The experiment was performed by allocating 30 dry beans at random to each temperature treatment conditional on the constraint that we have equal numbers of short, medium and long beans in each temperature treatment. The beans were labelled in order to keep track of the beans. The cold’s treatment water was chilled before the beans were immersed. After the beans were soaked for 12 hours, each bean’s-soaked length was recorded. The data was recorded in an excel sheet.\n",
    "\n",
    "The statistical analyses used to analyze the results was independent sample t test. This test investigates whether there is a significant difference in the means of two independent groups. The two temperature treatments are independent thus the justification to use this type of test. Before the test was conducted the assumptions, which were investigated included the assumption of normality and the assumption of constant variance. The Q-Q plot, Anderson-Darling test and the Shapiro-Wilks test was used to test for normality, Box plot was used to test for the presence of outliers in the data. The Levene’s and Bartlett's test was used to detect the presence of heteroscedasticity in the data."
   ]
  },
  {
   "cell_type": "markdown",
   "metadata": {},
   "source": [
    "# Results "
   ]
  },
  {
   "cell_type": "code",
   "execution_count": 2,
   "metadata": {},
   "outputs": [],
   "source": [
    "# import libraries \n",
    "import numpy as np \n",
    "import pandas as pd \n",
    "import matplotlib.pyplot as plt \n",
    "import researchpy as rp\n",
    "from scipy import stats\n",
    "from sklearn.preprocessing import scale\n",
    "import seaborn as sns "
   ]
  },
  {
   "cell_type": "code",
   "execution_count": 3,
   "metadata": {},
   "outputs": [],
   "source": [
    "# read data \n",
    "df = pd.read_excel('Bean_Soak_Off_Spring_2021.xlsx')"
   ]
  },
  {
   "cell_type": "code",
   "execution_count": 4,
   "metadata": {},
   "outputs": [
    {
     "data": {
      "text/html": [
       "<div>\n",
       "<style scoped>\n",
       "    .dataframe tbody tr th:only-of-type {\n",
       "        vertical-align: middle;\n",
       "    }\n",
       "\n",
       "    .dataframe tbody tr th {\n",
       "        vertical-align: top;\n",
       "    }\n",
       "\n",
       "    .dataframe thead th {\n",
       "        text-align: right;\n",
       "    }\n",
       "</style>\n",
       "<table border=\"1\" class=\"dataframe\">\n",
       "  <thead>\n",
       "    <tr style=\"text-align: right;\">\n",
       "      <th></th>\n",
       "      <th>Temperature</th>\n",
       "      <th>Bean</th>\n",
       "      <th>Dry</th>\n",
       "      <th>Soaked</th>\n",
       "    </tr>\n",
       "  </thead>\n",
       "  <tbody>\n",
       "    <tr>\n",
       "      <th>0</th>\n",
       "      <td>1</td>\n",
       "      <td>1</td>\n",
       "      <td>1.410</td>\n",
       "      <td>1.86</td>\n",
       "    </tr>\n",
       "    <tr>\n",
       "      <th>1</th>\n",
       "      <td>1</td>\n",
       "      <td>2</td>\n",
       "      <td>1.415</td>\n",
       "      <td>1.82</td>\n",
       "    </tr>\n",
       "    <tr>\n",
       "      <th>2</th>\n",
       "      <td>1</td>\n",
       "      <td>3</td>\n",
       "      <td>1.165</td>\n",
       "      <td>1.48</td>\n",
       "    </tr>\n",
       "    <tr>\n",
       "      <th>3</th>\n",
       "      <td>1</td>\n",
       "      <td>4</td>\n",
       "      <td>1.350</td>\n",
       "      <td>1.72</td>\n",
       "    </tr>\n",
       "    <tr>\n",
       "      <th>4</th>\n",
       "      <td>1</td>\n",
       "      <td>5</td>\n",
       "      <td>1.455</td>\n",
       "      <td>1.87</td>\n",
       "    </tr>\n",
       "  </tbody>\n",
       "</table>\n",
       "</div>"
      ],
      "text/plain": [
       "   Temperature  Bean    Dry  Soaked\n",
       "0            1     1  1.410    1.86\n",
       "1            1     2  1.415    1.82\n",
       "2            1     3  1.165    1.48\n",
       "3            1     4  1.350    1.72\n",
       "4            1     5  1.455    1.87"
      ]
     },
     "execution_count": 4,
     "metadata": {},
     "output_type": "execute_result"
    }
   ],
   "source": [
    "df.head() "
   ]
  },
  {
   "cell_type": "code",
   "execution_count": 5,
   "metadata": {},
   "outputs": [
    {
     "data": {
      "text/html": [
       "<div>\n",
       "<style scoped>\n",
       "    .dataframe tbody tr th:only-of-type {\n",
       "        vertical-align: middle;\n",
       "    }\n",
       "\n",
       "    .dataframe tbody tr th {\n",
       "        vertical-align: top;\n",
       "    }\n",
       "\n",
       "    .dataframe thead th {\n",
       "        text-align: right;\n",
       "    }\n",
       "</style>\n",
       "<table border=\"1\" class=\"dataframe\">\n",
       "  <thead>\n",
       "    <tr style=\"text-align: right;\">\n",
       "      <th></th>\n",
       "      <th>Temperature</th>\n",
       "      <th>Bean</th>\n",
       "      <th>Dry</th>\n",
       "      <th>Soaked</th>\n",
       "      <th>Difference</th>\n",
       "    </tr>\n",
       "  </thead>\n",
       "  <tbody>\n",
       "    <tr>\n",
       "      <th>0</th>\n",
       "      <td>1</td>\n",
       "      <td>1</td>\n",
       "      <td>1.410</td>\n",
       "      <td>1.86</td>\n",
       "      <td>0.450</td>\n",
       "    </tr>\n",
       "    <tr>\n",
       "      <th>1</th>\n",
       "      <td>1</td>\n",
       "      <td>2</td>\n",
       "      <td>1.415</td>\n",
       "      <td>1.82</td>\n",
       "      <td>0.405</td>\n",
       "    </tr>\n",
       "    <tr>\n",
       "      <th>2</th>\n",
       "      <td>1</td>\n",
       "      <td>3</td>\n",
       "      <td>1.165</td>\n",
       "      <td>1.48</td>\n",
       "      <td>0.315</td>\n",
       "    </tr>\n",
       "    <tr>\n",
       "      <th>3</th>\n",
       "      <td>1</td>\n",
       "      <td>4</td>\n",
       "      <td>1.350</td>\n",
       "      <td>1.72</td>\n",
       "      <td>0.370</td>\n",
       "    </tr>\n",
       "    <tr>\n",
       "      <th>4</th>\n",
       "      <td>1</td>\n",
       "      <td>5</td>\n",
       "      <td>1.455</td>\n",
       "      <td>1.87</td>\n",
       "      <td>0.415</td>\n",
       "    </tr>\n",
       "  </tbody>\n",
       "</table>\n",
       "</div>"
      ],
      "text/plain": [
       "   Temperature  Bean    Dry  Soaked  Difference\n",
       "0            1     1  1.410    1.86       0.450\n",
       "1            1     2  1.415    1.82       0.405\n",
       "2            1     3  1.165    1.48       0.315\n",
       "3            1     4  1.350    1.72       0.370\n",
       "4            1     5  1.455    1.87       0.415"
      ]
     },
     "execution_count": 5,
     "metadata": {},
     "output_type": "execute_result"
    }
   ],
   "source": [
    "# create difference column \n",
    "df['Difference'] = df['Soaked'] - df['Dry']\n",
    "df.head() "
   ]
  },
  {
   "cell_type": "code",
   "execution_count": 12,
   "metadata": {},
   "outputs": [
    {
     "data": {
      "text/html": [
       "<div>\n",
       "<style scoped>\n",
       "    .dataframe tbody tr th:only-of-type {\n",
       "        vertical-align: middle;\n",
       "    }\n",
       "\n",
       "    .dataframe tbody tr th {\n",
       "        vertical-align: top;\n",
       "    }\n",
       "\n",
       "    .dataframe thead th {\n",
       "        text-align: right;\n",
       "    }\n",
       "</style>\n",
       "<table border=\"1\" class=\"dataframe\">\n",
       "  <thead>\n",
       "    <tr style=\"text-align: right;\">\n",
       "      <th></th>\n",
       "      <th>Temperature</th>\n",
       "      <th>Bean</th>\n",
       "      <th>Dry</th>\n",
       "      <th>Soaked</th>\n",
       "      <th>Difference</th>\n",
       "    </tr>\n",
       "  </thead>\n",
       "  <tbody>\n",
       "    <tr>\n",
       "      <th>0</th>\n",
       "      <td>Room temperature</td>\n",
       "      <td>1</td>\n",
       "      <td>1.410</td>\n",
       "      <td>1.86</td>\n",
       "      <td>0.450</td>\n",
       "    </tr>\n",
       "    <tr>\n",
       "      <th>1</th>\n",
       "      <td>Room temperature</td>\n",
       "      <td>2</td>\n",
       "      <td>1.415</td>\n",
       "      <td>1.82</td>\n",
       "      <td>0.405</td>\n",
       "    </tr>\n",
       "    <tr>\n",
       "      <th>2</th>\n",
       "      <td>Room temperature</td>\n",
       "      <td>3</td>\n",
       "      <td>1.165</td>\n",
       "      <td>1.48</td>\n",
       "      <td>0.315</td>\n",
       "    </tr>\n",
       "    <tr>\n",
       "      <th>3</th>\n",
       "      <td>Room temperature</td>\n",
       "      <td>4</td>\n",
       "      <td>1.350</td>\n",
       "      <td>1.72</td>\n",
       "      <td>0.370</td>\n",
       "    </tr>\n",
       "    <tr>\n",
       "      <th>4</th>\n",
       "      <td>Room temperature</td>\n",
       "      <td>5</td>\n",
       "      <td>1.455</td>\n",
       "      <td>1.87</td>\n",
       "      <td>0.415</td>\n",
       "    </tr>\n",
       "  </tbody>\n",
       "</table>\n",
       "</div>"
      ],
      "text/plain": [
       "        Temperature  Bean    Dry  Soaked  Difference\n",
       "0  Room temperature     1  1.410    1.86       0.450\n",
       "1  Room temperature     2  1.415    1.82       0.405\n",
       "2  Room temperature     3  1.165    1.48       0.315\n",
       "3  Room temperature     4  1.350    1.72       0.370\n",
       "4  Room temperature     5  1.455    1.87       0.415"
      ]
     },
     "execution_count": 12,
     "metadata": {},
     "output_type": "execute_result"
    }
   ],
   "source": [
    "# replace temparature \n",
    "df['Temperature'].replace({1: \"Room temperature\", 2: \"Chilled temperature\"}, inplace=True)\n",
    "df.head()"
   ]
  },
  {
   "cell_type": "code",
   "execution_count": 72,
   "metadata": {},
   "outputs": [
    {
     "data": {
      "text/html": [
       "<div>\n",
       "<style scoped>\n",
       "    .dataframe tbody tr th:only-of-type {\n",
       "        vertical-align: middle;\n",
       "    }\n",
       "\n",
       "    .dataframe tbody tr th {\n",
       "        vertical-align: top;\n",
       "    }\n",
       "\n",
       "    .dataframe thead th {\n",
       "        text-align: right;\n",
       "    }\n",
       "</style>\n",
       "<table border=\"1\" class=\"dataframe\">\n",
       "  <thead>\n",
       "    <tr style=\"text-align: right;\">\n",
       "      <th></th>\n",
       "      <th>Bean</th>\n",
       "      <th>Dry</th>\n",
       "      <th>Soaked</th>\n",
       "      <th>Difference</th>\n",
       "    </tr>\n",
       "  </thead>\n",
       "  <tbody>\n",
       "    <tr>\n",
       "      <th>count</th>\n",
       "      <td>60.000000</td>\n",
       "      <td>60.000000</td>\n",
       "      <td>60.000000</td>\n",
       "      <td>60.000000</td>\n",
       "    </tr>\n",
       "    <tr>\n",
       "      <th>mean</th>\n",
       "      <td>15.500000</td>\n",
       "      <td>1.440583</td>\n",
       "      <td>1.601583</td>\n",
       "      <td>0.161000</td>\n",
       "    </tr>\n",
       "    <tr>\n",
       "      <th>std</th>\n",
       "      <td>8.728484</td>\n",
       "      <td>0.117055</td>\n",
       "      <td>0.231958</td>\n",
       "      <td>0.246153</td>\n",
       "    </tr>\n",
       "    <tr>\n",
       "      <th>min</th>\n",
       "      <td>1.000000</td>\n",
       "      <td>1.165000</td>\n",
       "      <td>1.100000</td>\n",
       "      <td>-0.300000</td>\n",
       "    </tr>\n",
       "    <tr>\n",
       "      <th>25%</th>\n",
       "      <td>8.000000</td>\n",
       "      <td>1.380000</td>\n",
       "      <td>1.400000</td>\n",
       "      <td>-0.150000</td>\n",
       "    </tr>\n",
       "    <tr>\n",
       "      <th>50%</th>\n",
       "      <td>15.500000</td>\n",
       "      <td>1.420000</td>\n",
       "      <td>1.650000</td>\n",
       "      <td>0.280000</td>\n",
       "    </tr>\n",
       "    <tr>\n",
       "      <th>75%</th>\n",
       "      <td>23.000000</td>\n",
       "      <td>1.496250</td>\n",
       "      <td>1.785000</td>\n",
       "      <td>0.370000</td>\n",
       "    </tr>\n",
       "    <tr>\n",
       "      <th>max</th>\n",
       "      <td>30.000000</td>\n",
       "      <td>1.800000</td>\n",
       "      <td>2.210000</td>\n",
       "      <td>0.490000</td>\n",
       "    </tr>\n",
       "  </tbody>\n",
       "</table>\n",
       "</div>"
      ],
      "text/plain": [
       "            Bean        Dry     Soaked  Difference\n",
       "count  60.000000  60.000000  60.000000   60.000000\n",
       "mean   15.500000   1.440583   1.601583    0.161000\n",
       "std     8.728484   0.117055   0.231958    0.246153\n",
       "min     1.000000   1.165000   1.100000   -0.300000\n",
       "25%     8.000000   1.380000   1.400000   -0.150000\n",
       "50%    15.500000   1.420000   1.650000    0.280000\n",
       "75%    23.000000   1.496250   1.785000    0.370000\n",
       "max    30.000000   1.800000   2.210000    0.490000"
      ]
     },
     "execution_count": 72,
     "metadata": {},
     "output_type": "execute_result"
    }
   ],
   "source": [
    "df.describe() "
   ]
  },
  {
   "cell_type": "code",
   "execution_count": 13,
   "metadata": {},
   "outputs": [
    {
     "data": {
      "text/html": [
       "<div>\n",
       "<style scoped>\n",
       "    .dataframe tbody tr th:only-of-type {\n",
       "        vertical-align: middle;\n",
       "    }\n",
       "\n",
       "    .dataframe tbody tr th {\n",
       "        vertical-align: top;\n",
       "    }\n",
       "\n",
       "    .dataframe thead th {\n",
       "        text-align: right;\n",
       "    }\n",
       "</style>\n",
       "<table border=\"1\" class=\"dataframe\">\n",
       "  <thead>\n",
       "    <tr style=\"text-align: right;\">\n",
       "      <th></th>\n",
       "      <th>Temperature</th>\n",
       "      <th>Bean</th>\n",
       "      <th>Dry</th>\n",
       "      <th>Soaked</th>\n",
       "      <th>Difference</th>\n",
       "    </tr>\n",
       "  </thead>\n",
       "  <tbody>\n",
       "    <tr>\n",
       "      <th>0</th>\n",
       "      <td>Room temperature</td>\n",
       "      <td>1</td>\n",
       "      <td>1.410</td>\n",
       "      <td>1.86</td>\n",
       "      <td>0.450</td>\n",
       "    </tr>\n",
       "    <tr>\n",
       "      <th>1</th>\n",
       "      <td>Room temperature</td>\n",
       "      <td>2</td>\n",
       "      <td>1.415</td>\n",
       "      <td>1.82</td>\n",
       "      <td>0.405</td>\n",
       "    </tr>\n",
       "    <tr>\n",
       "      <th>2</th>\n",
       "      <td>Room temperature</td>\n",
       "      <td>3</td>\n",
       "      <td>1.165</td>\n",
       "      <td>1.48</td>\n",
       "      <td>0.315</td>\n",
       "    </tr>\n",
       "    <tr>\n",
       "      <th>3</th>\n",
       "      <td>Room temperature</td>\n",
       "      <td>4</td>\n",
       "      <td>1.350</td>\n",
       "      <td>1.72</td>\n",
       "      <td>0.370</td>\n",
       "    </tr>\n",
       "    <tr>\n",
       "      <th>4</th>\n",
       "      <td>Room temperature</td>\n",
       "      <td>5</td>\n",
       "      <td>1.455</td>\n",
       "      <td>1.87</td>\n",
       "      <td>0.415</td>\n",
       "    </tr>\n",
       "  </tbody>\n",
       "</table>\n",
       "</div>"
      ],
      "text/plain": [
       "        Temperature  Bean    Dry  Soaked  Difference\n",
       "0  Room temperature     1  1.410    1.86       0.450\n",
       "1  Room temperature     2  1.415    1.82       0.405\n",
       "2  Room temperature     3  1.165    1.48       0.315\n",
       "3  Room temperature     4  1.350    1.72       0.370\n",
       "4  Room temperature     5  1.455    1.87       0.415"
      ]
     },
     "execution_count": 13,
     "metadata": {},
     "output_type": "execute_result"
    }
   ],
   "source": [
    "# for room tempareture \n",
    "df1 = df[df['Temperature'] == 'Room temperature']\n",
    "df1.head()"
   ]
  },
  {
   "cell_type": "code",
   "execution_count": 8,
   "metadata": {},
   "outputs": [
    {
     "data": {
      "text/plain": [
       "(30, 5)"
      ]
     },
     "execution_count": 8,
     "metadata": {},
     "output_type": "execute_result"
    }
   ],
   "source": [
    "df1.shape "
   ]
  },
  {
   "cell_type": "code",
   "execution_count": 9,
   "metadata": {},
   "outputs": [
    {
     "data": {
      "text/html": [
       "<div>\n",
       "<style scoped>\n",
       "    .dataframe tbody tr th:only-of-type {\n",
       "        vertical-align: middle;\n",
       "    }\n",
       "\n",
       "    .dataframe tbody tr th {\n",
       "        vertical-align: top;\n",
       "    }\n",
       "\n",
       "    .dataframe thead th {\n",
       "        text-align: right;\n",
       "    }\n",
       "</style>\n",
       "<table border=\"1\" class=\"dataframe\">\n",
       "  <thead>\n",
       "    <tr style=\"text-align: right;\">\n",
       "      <th></th>\n",
       "      <th>Temperature</th>\n",
       "      <th>Bean</th>\n",
       "      <th>Dry</th>\n",
       "      <th>Soaked</th>\n",
       "      <th>Difference</th>\n",
       "    </tr>\n",
       "  </thead>\n",
       "  <tbody>\n",
       "    <tr>\n",
       "      <th>30</th>\n",
       "      <td>Chilled temperature</td>\n",
       "      <td>1</td>\n",
       "      <td>1.430</td>\n",
       "      <td>1.755</td>\n",
       "      <td>0.325</td>\n",
       "    </tr>\n",
       "    <tr>\n",
       "      <th>31</th>\n",
       "      <td>Chilled temperature</td>\n",
       "      <td>2</td>\n",
       "      <td>1.345</td>\n",
       "      <td>1.470</td>\n",
       "      <td>0.125</td>\n",
       "    </tr>\n",
       "    <tr>\n",
       "      <th>32</th>\n",
       "      <td>Chilled temperature</td>\n",
       "      <td>3</td>\n",
       "      <td>1.495</td>\n",
       "      <td>1.640</td>\n",
       "      <td>0.145</td>\n",
       "    </tr>\n",
       "    <tr>\n",
       "      <th>33</th>\n",
       "      <td>Chilled temperature</td>\n",
       "      <td>4</td>\n",
       "      <td>1.440</td>\n",
       "      <td>1.800</td>\n",
       "      <td>0.360</td>\n",
       "    </tr>\n",
       "    <tr>\n",
       "      <th>34</th>\n",
       "      <td>Chilled temperature</td>\n",
       "      <td>5</td>\n",
       "      <td>1.380</td>\n",
       "      <td>1.660</td>\n",
       "      <td>0.280</td>\n",
       "    </tr>\n",
       "  </tbody>\n",
       "</table>\n",
       "</div>"
      ],
      "text/plain": [
       "            Temperature  Bean    Dry  Soaked  Difference\n",
       "30  Chilled temperature     1  1.430   1.755       0.325\n",
       "31  Chilled temperature     2  1.345   1.470       0.125\n",
       "32  Chilled temperature     3  1.495   1.640       0.145\n",
       "33  Chilled temperature     4  1.440   1.800       0.360\n",
       "34  Chilled temperature     5  1.380   1.660       0.280"
      ]
     },
     "execution_count": 9,
     "metadata": {},
     "output_type": "execute_result"
    }
   ],
   "source": [
    "# for chilled tempareture \n",
    "df2 = df[df['Temperature'] == 'Chilled temperature']\n",
    "df2.head()"
   ]
  },
  {
   "cell_type": "code",
   "execution_count": 10,
   "metadata": {},
   "outputs": [
    {
     "data": {
      "text/plain": [
       "(30, 5)"
      ]
     },
     "execution_count": 10,
     "metadata": {},
     "output_type": "execute_result"
    }
   ],
   "source": [
    "df2.shape"
   ]
  },
  {
   "cell_type": "code",
   "execution_count": 27,
   "metadata": {},
   "outputs": [
    {
     "data": {
      "text/html": [
       "<div>\n",
       "<style scoped>\n",
       "    .dataframe tbody tr th:only-of-type {\n",
       "        vertical-align: middle;\n",
       "    }\n",
       "\n",
       "    .dataframe tbody tr th {\n",
       "        vertical-align: top;\n",
       "    }\n",
       "\n",
       "    .dataframe thead th {\n",
       "        text-align: right;\n",
       "    }\n",
       "</style>\n",
       "<table border=\"1\" class=\"dataframe\">\n",
       "  <thead>\n",
       "    <tr style=\"text-align: right;\">\n",
       "      <th></th>\n",
       "      <th>Bean</th>\n",
       "      <th>Dry</th>\n",
       "      <th>Soaked</th>\n",
       "      <th>Difference</th>\n",
       "    </tr>\n",
       "  </thead>\n",
       "  <tbody>\n",
       "    <tr>\n",
       "      <th>count</th>\n",
       "      <td>30.000000</td>\n",
       "      <td>30.000000</td>\n",
       "      <td>30.000000</td>\n",
       "      <td>30.000000</td>\n",
       "    </tr>\n",
       "    <tr>\n",
       "      <th>mean</th>\n",
       "      <td>15.500000</td>\n",
       "      <td>1.423833</td>\n",
       "      <td>1.627833</td>\n",
       "      <td>0.204000</td>\n",
       "    </tr>\n",
       "    <tr>\n",
       "      <th>std</th>\n",
       "      <td>8.803408</td>\n",
       "      <td>0.125112</td>\n",
       "      <td>0.274448</td>\n",
       "      <td>0.261235</td>\n",
       "    </tr>\n",
       "    <tr>\n",
       "      <th>min</th>\n",
       "      <td>1.000000</td>\n",
       "      <td>1.165000</td>\n",
       "      <td>1.100000</td>\n",
       "      <td>-0.200000</td>\n",
       "    </tr>\n",
       "    <tr>\n",
       "      <th>25%</th>\n",
       "      <td>8.250000</td>\n",
       "      <td>1.350000</td>\n",
       "      <td>1.412500</td>\n",
       "      <td>-0.100000</td>\n",
       "    </tr>\n",
       "    <tr>\n",
       "      <th>50%</th>\n",
       "      <td>15.500000</td>\n",
       "      <td>1.420000</td>\n",
       "      <td>1.717500</td>\n",
       "      <td>0.370000</td>\n",
       "    </tr>\n",
       "    <tr>\n",
       "      <th>75%</th>\n",
       "      <td>22.750000</td>\n",
       "      <td>1.450000</td>\n",
       "      <td>1.820000</td>\n",
       "      <td>0.390000</td>\n",
       "    </tr>\n",
       "    <tr>\n",
       "      <th>max</th>\n",
       "      <td>30.000000</td>\n",
       "      <td>1.750000</td>\n",
       "      <td>2.210000</td>\n",
       "      <td>0.490000</td>\n",
       "    </tr>\n",
       "  </tbody>\n",
       "</table>\n",
       "</div>"
      ],
      "text/plain": [
       "            Bean        Dry     Soaked  Difference\n",
       "count  30.000000  30.000000  30.000000   30.000000\n",
       "mean   15.500000   1.423833   1.627833    0.204000\n",
       "std     8.803408   0.125112   0.274448    0.261235\n",
       "min     1.000000   1.165000   1.100000   -0.200000\n",
       "25%     8.250000   1.350000   1.412500   -0.100000\n",
       "50%    15.500000   1.420000   1.717500    0.370000\n",
       "75%    22.750000   1.450000   1.820000    0.390000\n",
       "max    30.000000   1.750000   2.210000    0.490000"
      ]
     },
     "execution_count": 27,
     "metadata": {},
     "output_type": "execute_result"
    }
   ],
   "source": [
    "# summary statistics for room temperature \n",
    "df1.describe() "
   ]
  },
  {
   "cell_type": "code",
   "execution_count": 11,
   "metadata": {},
   "outputs": [
    {
     "data": {
      "text/html": [
       "<div>\n",
       "<style scoped>\n",
       "    .dataframe tbody tr th:only-of-type {\n",
       "        vertical-align: middle;\n",
       "    }\n",
       "\n",
       "    .dataframe tbody tr th {\n",
       "        vertical-align: top;\n",
       "    }\n",
       "\n",
       "    .dataframe thead th {\n",
       "        text-align: right;\n",
       "    }\n",
       "</style>\n",
       "<table border=\"1\" class=\"dataframe\">\n",
       "  <thead>\n",
       "    <tr style=\"text-align: right;\">\n",
       "      <th></th>\n",
       "      <th>Bean</th>\n",
       "      <th>Dry</th>\n",
       "      <th>Soaked</th>\n",
       "      <th>Difference</th>\n",
       "    </tr>\n",
       "  </thead>\n",
       "  <tbody>\n",
       "    <tr>\n",
       "      <th>count</th>\n",
       "      <td>30.000000</td>\n",
       "      <td>30.000000</td>\n",
       "      <td>30.000000</td>\n",
       "      <td>30.00000</td>\n",
       "    </tr>\n",
       "    <tr>\n",
       "      <th>mean</th>\n",
       "      <td>15.500000</td>\n",
       "      <td>1.457333</td>\n",
       "      <td>1.575333</td>\n",
       "      <td>0.11800</td>\n",
       "    </tr>\n",
       "    <tr>\n",
       "      <th>std</th>\n",
       "      <td>8.803408</td>\n",
       "      <td>0.107901</td>\n",
       "      <td>0.180879</td>\n",
       "      <td>0.22628</td>\n",
       "    </tr>\n",
       "    <tr>\n",
       "      <th>min</th>\n",
       "      <td>1.000000</td>\n",
       "      <td>1.285000</td>\n",
       "      <td>1.200000</td>\n",
       "      <td>-0.30000</td>\n",
       "    </tr>\n",
       "    <tr>\n",
       "      <th>25%</th>\n",
       "      <td>8.250000</td>\n",
       "      <td>1.396250</td>\n",
       "      <td>1.400000</td>\n",
       "      <td>-0.15000</td>\n",
       "    </tr>\n",
       "    <tr>\n",
       "      <th>50%</th>\n",
       "      <td>15.500000</td>\n",
       "      <td>1.425000</td>\n",
       "      <td>1.617500</td>\n",
       "      <td>0.17750</td>\n",
       "    </tr>\n",
       "    <tr>\n",
       "      <th>75%</th>\n",
       "      <td>22.750000</td>\n",
       "      <td>1.500000</td>\n",
       "      <td>1.703750</td>\n",
       "      <td>0.31000</td>\n",
       "    </tr>\n",
       "    <tr>\n",
       "      <th>max</th>\n",
       "      <td>30.000000</td>\n",
       "      <td>1.800000</td>\n",
       "      <td>1.840000</td>\n",
       "      <td>0.37000</td>\n",
       "    </tr>\n",
       "  </tbody>\n",
       "</table>\n",
       "</div>"
      ],
      "text/plain": [
       "            Bean        Dry     Soaked  Difference\n",
       "count  30.000000  30.000000  30.000000    30.00000\n",
       "mean   15.500000   1.457333   1.575333     0.11800\n",
       "std     8.803408   0.107901   0.180879     0.22628\n",
       "min     1.000000   1.285000   1.200000    -0.30000\n",
       "25%     8.250000   1.396250   1.400000    -0.15000\n",
       "50%    15.500000   1.425000   1.617500     0.17750\n",
       "75%    22.750000   1.500000   1.703750     0.31000\n",
       "max    30.000000   1.800000   1.840000     0.37000"
      ]
     },
     "execution_count": 11,
     "metadata": {},
     "output_type": "execute_result"
    }
   ],
   "source": [
    "# summary statistics for chilled temperature \n",
    "df2.describe() "
   ]
  },
  {
   "cell_type": "code",
   "execution_count": null,
   "metadata": {},
   "outputs": [],
   "source": []
  },
  {
   "cell_type": "markdown",
   "metadata": {},
   "source": [
    "## Normality Assumptions "
   ]
  },
  {
   "cell_type": "code",
   "execution_count": 35,
   "metadata": {},
   "outputs": [
    {
     "data": {
      "image/png": "[encoded data removed]",
      "text/plain": [
       "<Figure size 720x432 with 2 Axes>"
      ]
     },
     "metadata": {
      "needs_background": "light"
     },
     "output_type": "display_data"
    }
   ],
   "source": [
    "plt.figure(figsize=(10, 6))\n",
    "plt.subplot(121)\n",
    "stats.probplot(df1['Difference'], plot=plt, dist='norm')\n",
    "plt.subplot(122)\n",
    "stats.probplot(df2['Difference'], plot=plt, dist='norm')\n",
    "plt.show() "
   ]
  },
  {
   "cell_type": "markdown",
   "metadata": {},
   "source": [
    "The majority of the observations for both treatments do not fall approximately along the reference line, indicating that the observations are not normally distributed, according to the QQ map. The Anderson-Darling and Shapiro-Wilks tests also endorse this conclusion. The p-value should be greater than 0.05 if the data is normally distributed."
   ]
  },
  {
   "cell_type": "markdown",
   "metadata": {},
   "source": [
    "## Test for Normality\n",
    "- $H_0$: The data follow Normal Distribution\n",
    "- $H_a$: The data don't follow Normal Distribution"
   ]
  },
  {
   "cell_type": "code",
   "execution_count": 69,
   "metadata": {},
   "outputs": [
    {
     "name": "stdout",
     "output_type": "stream",
     "text": [
      "0.75319356 0.00001026\n",
      "The data don't follow Normal Distribution\n"
     ]
    }
   ],
   "source": [
    "# shapirio\n",
    "stat, p = stats.shapiro(df1['Difference'])\n",
    "print(\"{:.8f}\".format(stat), \"{:.8f}\".format(p))\n",
    "alpha = 0.05\n",
    "if p > alpha: \n",
    "    print(\"The data follow Normal Distribution\")\n",
    "else: \n",
    "    print(\"The data don't follow Normal Distribution\")"
   ]
  },
  {
   "cell_type": "code",
   "execution_count": 71,
   "metadata": {},
   "outputs": [
    {
     "name": "stdout",
     "output_type": "stream",
     "text": [
      "0.84113020 0.00040656\n",
      "The data don't follow Normal Distribution\n"
     ]
    }
   ],
   "source": [
    "# shapirio\n",
    "stat, p = stats.shapiro(df2['Difference'])\n",
    "print(\"{:.8f}\".format(stat), \"{:.8f}\".format(p))\n",
    "alpha = 0.05 \n",
    "if p > alpha: \n",
    "    print(\"The data follow Normal Distribution\")\n",
    "else: \n",
    "    print(\"The data don't follow Normal Distribution\")"
   ]
  },
  {
   "cell_type": "markdown",
   "metadata": {},
   "source": [
    "### Comment \n",
    "From table2, hence all the p value is less than 0.05 for each treatment, we have enough evidence to reject null hypothesis, which indicates that the normality assumption is violated. The conclusion from QQ plot is supported by the both Anderson-Darling and Shapiro-Wilk test."
   ]
  },
  {
   "cell_type": "code",
   "execution_count": null,
   "metadata": {},
   "outputs": [],
   "source": []
  },
  {
   "cell_type": "code",
   "execution_count": null,
   "metadata": {},
   "outputs": [],
   "source": []
  },
  {
   "cell_type": "code",
   "execution_count": 37,
   "metadata": {},
   "outputs": [
    {
     "name": "stdout",
     "output_type": "stream",
     "text": [
      "1.3629259804422171 0.17817404901891506\n",
      "The soack lenght are not significantly different.\n"
     ]
    }
   ],
   "source": [
    "stat, p = stats.ttest_ind(df1['Difference'], df2['Difference'])\n",
    "print(stat, p)\n",
    "alpha = 0.05 \n",
    "if p > alpha: \n",
    "    print(\"The soack lenght are not significantly different.\")\n",
    "else: \n",
    "    print(\"The soack length are significantly different.\")"
   ]
  },
  {
   "cell_type": "code",
   "execution_count": 42,
   "metadata": {},
   "outputs": [
    {
     "name": "stdout",
     "output_type": "stream",
     "text": [
      "The soack lenght are not significantly different.\n",
      "1.0\n"
     ]
    }
   ],
   "source": [
    "stat, p = stats.ttest_ind(x, y)\n",
    "alpha = 0.05 \n",
    "if p > alpha: \n",
    "    print(\"The soack lenght are not significantly different.\")\n",
    "else: \n",
    "    print(\"The soack length are significantly different.\")\n",
    "print(p)"
   ]
  },
  {
   "cell_type": "code",
   "execution_count": 43,
   "metadata": {},
   "outputs": [
    {
     "name": "stdout",
     "output_type": "stream",
     "text": [
      "0.7531935572624207 1.0259847840643488e-05\n",
      "Reject H0, the result is significant\n"
     ]
    }
   ],
   "source": [
    "stat, p = stats.shapiro(x)\n",
    "print(stat, p)\n",
    "alpha = 0.05 \n",
    "if p > alpha: \n",
    "    print(\"Normally Distributed, Fail to reject H0\")\n",
    "else: \n",
    "    print(\"Reject H0, the result is significant\")"
   ]
  },
  {
   "cell_type": "code",
   "execution_count": null,
   "metadata": {},
   "outputs": [],
   "source": []
  },
  {
   "cell_type": "code",
   "execution_count": null,
   "metadata": {},
   "outputs": [],
   "source": []
  },
  {
   "cell_type": "code",
   "execution_count": null,
   "metadata": {},
   "outputs": [],
   "source": []
  },
  {
   "cell_type": "code",
   "execution_count": null,
   "metadata": {},
   "outputs": [],
   "source": []
  }
 ],
 "metadata": {
  "kernelspec": {
   "display_name": "Python 3",
   "language": "python",
   "name": "python3"
  },
  "language_info": {
   "codemirror_mode": {
    "name": "ipython",
    "version": 3
   },
   "file_extension": ".py",
   "mimetype": "text/x-python",
   "name": "python",
   "nbconvert_exporter": "python",
   "pygments_lexer": "ipython3",
   "version": "3.8.3"
  },
  "latex_envs": {
   "LaTeX_envs_menu_present": true,
   "autoclose": false,
   "autocomplete": true,
   "bibliofile": "biblio.bib",
   "cite_by": "apalike",
   "current_citInitial": 1,
   "eqLabelWithNumbers": true,
   "eqNumInitial": 1,
   "hotkeys": {
    "equation": "Ctrl-E",
    "itemize": "Ctrl-I"
   },
   "labels_anchors": false,
   "latex_user_defs": false,
   "report_style_numbering": false,
   "user_envs_cfg": false
  }
 },
 "nbformat": 4,
 "nbformat_minor": 4
}
